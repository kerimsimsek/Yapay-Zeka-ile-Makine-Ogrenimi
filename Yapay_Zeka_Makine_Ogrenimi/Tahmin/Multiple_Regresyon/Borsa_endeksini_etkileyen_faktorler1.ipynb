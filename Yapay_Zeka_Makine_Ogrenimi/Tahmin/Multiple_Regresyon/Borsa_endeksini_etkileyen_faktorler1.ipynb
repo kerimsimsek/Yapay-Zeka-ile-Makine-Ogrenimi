{
 "cells": [
  {
   "cell_type": "code",
   "execution_count": 1,
   "id": "1079fd7e-5445-47e2-8821-581deebd7ce8",
   "metadata": {},
   "outputs": [
    {
     "name": "stdout",
     "output_type": "stream",
     "text": [
      "                            OLS Regression Results                            \n",
      "==============================================================================\n",
      "Dep. Variable:          Borsa Endeksi   R-squared:                       1.000\n",
      "Model:                            OLS   Adj. R-squared:                  1.000\n",
      "Method:                 Least Squares   F-statistic:                 3.382e+28\n",
      "Date:                Sat, 16 Mar 2024   Prob (F-statistic):          1.74e-233\n",
      "Time:                        11:49:38   Log-Likelihood:                 463.55\n",
      "No. Observations:                  19   AIC:                            -923.1\n",
      "Df Residuals:                      17   BIC:                            -921.2\n",
      "Df Model:                           1                                         \n",
      "Covariance Type:            nonrobust                                         \n",
      "====================================================================================\n",
      "                       coef    std err          t      P>|t|      [0.025      0.975]\n",
      "------------------------------------------------------------------------------------\n",
      "Ekonomik Büyüme    113.3106   2.66e-13   4.25e+14      0.000     113.311     113.311\n",
      "Faiz Oranları      307.5085   7.35e-13   4.18e+14      0.000     307.509     307.509\n",
      "Yatırımcı Güveni   -32.0819   1.51e-13  -2.13e+14      0.000     -32.082     -32.082\n",
      "==============================================================================\n",
      "Omnibus:                        3.087   Durbin-Watson:                   0.006\n",
      "Prob(Omnibus):                  0.214   Jarque-Bera (JB):                1.226\n",
      "Skew:                          -0.021   Prob(JB):                        0.542\n",
      "Kurtosis:                       1.756   Cond. No.                     2.46e+16\n",
      "==============================================================================\n",
      "\n",
      "Notes:\n",
      "[1] Standard Errors assume that the covariance matrix of the errors is correctly specified.\n",
      "[2] The smallest eigenvalue is 1.23e-28. This might indicate that there are\n",
      "strong multicollinearity problems or that the design matrix is singular.\n",
      "    Borsa Endeksi  tahminler\n",
      "0            1500     1500.0\n",
      "1            1550     1550.0\n",
      "2            1600     1600.0\n",
      "3            1650     1650.0\n",
      "4            1700     1700.0\n",
      "5            1750     1750.0\n",
      "6            1800     1800.0\n",
      "7            1850     1850.0\n",
      "8            1900     1900.0\n",
      "9            1950     1950.0\n",
      "10           2000     2000.0\n",
      "11           2050     2050.0\n",
      "12           2100     2100.0\n",
      "13           2150     2150.0\n",
      "14           2200     2200.0\n",
      "15           2250     2250.0\n",
      "16           2300     2300.0\n",
      "17           2350     2350.0\n",
      "18           2400     2400.0\n"
     ]
    },
    {
     "name": "stderr",
     "output_type": "stream",
     "text": [
      "C:\\ProgramData\\anaconda3\\Lib\\site-packages\\scipy\\stats\\_stats_py.py:1806: UserWarning: kurtosistest only valid for n>=20 ... continuing anyway, n=19\n",
      "  warnings.warn(\"kurtosistest only valid for n>=20 ... continuing \"\n"
     ]
    }
   ],
   "source": [
    "import pandas as pd\n",
    "import statsmodels.api as sm\n",
    "\n",
    "# Verileri oku\n",
    "data = pd.read_excel(\"C:/Users/gfbke/Desktop/Yapay_Zeka_Makine_Ogrenimi/Tahmin/Multiple_Regresyon/Borsa_endeksini_etkileyen_faktorler1.xlsx\")\n",
    "\n",
    "# Bağımlı ve bağımsız değişkenleri tanımla\n",
    "y = data[\"Borsa Endeksi\"]\n",
    "X = data[[\"Ekonomik Büyüme\", \"Faiz Oranları\", \"Yatırımcı Güveni\"]]\n",
    "\n",
    "# Modeli oluştur\n",
    "model = sm.OLS(y, X).fit()\n",
    "\n",
    "# Model özetini yazdır\n",
    "print(model.summary())\n",
    "\n",
    "# Tahminler yap\n",
    "tahminler = model.predict(X)\n",
    "\n",
    "# Veriye tahmin ekle (optional)\n",
    "data[\"tahminler\"] = tahminler\n",
    "\n",
    "# Gerçek ve tahmini değerleri karşılaştır\n",
    "print(data[[\"Borsa Endeksi\", \"tahminler\"]])\n"
   ]
  },
  {
   "cell_type": "code",
   "execution_count": null,
   "id": "08701253-3d73-4f55-b54a-b5be585f4a38",
   "metadata": {},
   "outputs": [],
   "source": []
  }
 ],
 "metadata": {
  "kernelspec": {
   "display_name": "Python 3 (ipykernel)",
   "language": "python",
   "name": "python3"
  },
  "language_info": {
   "codemirror_mode": {
    "name": "ipython",
    "version": 3
   },
   "file_extension": ".py",
   "mimetype": "text/x-python",
   "name": "python",
   "nbconvert_exporter": "python",
   "pygments_lexer": "ipython3",
   "version": "3.11.7"
  }
 },
 "nbformat": 4,
 "nbformat_minor": 5
}
