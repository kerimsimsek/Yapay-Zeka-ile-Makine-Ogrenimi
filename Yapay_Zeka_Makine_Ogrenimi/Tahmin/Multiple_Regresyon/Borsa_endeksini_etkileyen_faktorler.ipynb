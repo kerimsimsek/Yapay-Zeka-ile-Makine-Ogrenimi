{
 "cells": [
  {
   "cell_type": "code",
   "execution_count": 19,
   "id": "ef1c6bd6-6efd-4902-81a3-62ab89530a49",
   "metadata": {},
   "outputs": [],
   "source": [
    "import pandas as pd\n",
    "import statsmodels.api as sm #Çoklu regresyon için kullanılan kütüphane\n",
    "from sklearn.preprocessing import LabelEncoder"
   ]
  },
  {
   "cell_type": "code",
   "execution_count": 14,
   "id": "39be5813-c291-416e-8d97-f026e96a0e09",
   "metadata": {},
   "outputs": [],
   "source": [
    "# Verileri oku\n",
    "data = pd.read_excel(\"C:/Users/gfbke/Desktop/Yapay_Zeka_Makine_Ogrenimi/Tahmin/Multiple_Regresyon/Borsa_endeksini_etkileyen_faktorler.xlsx\")"
   ]
  },
  {
   "cell_type": "code",
   "execution_count": 15,
   "id": "261cf682-51c2-4ced-b83d-ea41b435cc10",
   "metadata": {},
   "outputs": [
    {
     "name": "stdout",
     "output_type": "stream",
     "text": [
      "Borsa_Endeksi       object\n",
      "Ekonomi_Buyume      object\n",
      "Faiz_Oranlari       object\n",
      "Yatirimci_Guveni    object\n",
      "dtype: object\n",
      "  Borsa_Endeksi Ekonomi_Buyume Faiz_Oranlari Yatirimci_Guveni\n",
      "0          1500            2.5             5               70\n"
     ]
    }
   ],
   "source": [
    "# Sütunların veri türlerini ve örnek değerlerini yazdır\n",
    "print(data.dtypes)\n",
    "print(data.head(1))"
   ]
  },
  {
   "cell_type": "code",
   "execution_count": 27,
   "id": "69f84d6b-4ffd-42f9-bb97-3c3128470590",
   "metadata": {},
   "outputs": [],
   "source": [
    "data = data.replace('...', np.nan)  # \"...\" gibi değerleri NaN ile değiştir\n",
    "data = data.dropna()  # NaN değerleri içeren satırları bırak"
   ]
  },
  {
   "cell_type": "code",
   "execution_count": 30,
   "id": "4b8e4d7f-51cd-4e24-a07f-cb1df7ce3c51",
   "metadata": {},
   "outputs": [],
   "source": [
    "data = data.replace('...', '1000')  # \"...\" gibi değerleri \"1000\" ile değiştir\n",
    "data['Borsa_Endeksi'] = data['Borsa_Endeksi'].astype(float)  # Sütunu float türüne dönüştür\n",
    "data['Ekonomi_Buyume'] = data['Ekonomi_Buyume'].astype(float)  # Sütunu float türüne dönüştür\n",
    "data['Faiz_Oranlari'] = data['Faiz_Oranlari'].astype(float)  # Sütunu float türüne dönüştür\n",
    "data['Yatirimci_Guveni'] = data['Yatirimci_Guveni'].astype(float)  # Sütunu float türüne dönüştür"
   ]
  },
  {
   "cell_type": "code",
   "execution_count": 31,
   "id": "0826abc0-f052-4ee8-9283-ebe9472f9d9b",
   "metadata": {},
   "outputs": [],
   "source": [
    "# Bağımlı ve bağımsız değişkenleri tanımla\n",
    "y = data[\"Borsa_Endeksi\"]\n",
    "X = data[[\"Ekonomi_Buyume\", \"Faiz_Oranlari\", \"Yatirimci_Guveni\"]]"
   ]
  },
  {
   "cell_type": "code",
   "execution_count": 32,
   "id": "a6c6cf54-40bd-46c4-a254-cf806236494e",
   "metadata": {},
   "outputs": [],
   "source": [
    "# Modeli oluştur\n",
    "X = sm.add_constant(X)  # Sabit terimi ekler\n",
    "model = sm.OLS(y, X).fit()"
   ]
  },
  {
   "cell_type": "code",
   "execution_count": 33,
   "id": "302faf4a-ee7a-48db-90d8-2f8a4a8b7fe3",
   "metadata": {},
   "outputs": [
    {
     "name": "stdout",
     "output_type": "stream",
     "text": [
      "                            OLS Regression Results                            \n",
      "==============================================================================\n",
      "Dep. Variable:          Borsa_Endeksi   R-squared:                       1.000\n",
      "Model:                            OLS   Adj. R-squared:                  1.000\n",
      "Method:                 Least Squares   F-statistic:                 1.769e+28\n",
      "Date:                Sat, 16 Mar 2024   Prob (F-statistic):           9.37e-43\n",
      "Time:                        11:25:13   Log-Likelihood:                 131.47\n",
      "No. Observations:                   5   AIC:                            -258.9\n",
      "Df Residuals:                       3   BIC:                            -259.7\n",
      "Df Model:                           1                                         \n",
      "Covariance Type:            nonrobust                                         \n",
      "====================================================================================\n",
      "                       coef    std err          t      P>|t|      [0.025      0.975]\n",
      "------------------------------------------------------------------------------------\n",
      "const               32.4682   2.41e-13   1.35e+14      0.000      32.468      32.468\n",
      "Ekonomi_Buyume    -143.0573   1.08e-12  -1.33e+14      0.000    -143.057    -143.057\n",
      "Faiz_Oranlari      -61.8869   4.74e-13   -1.3e+14      0.000     -61.887     -61.887\n",
      "Yatirimci_Guveni    30.4944   8.06e-14   3.79e+14      0.000      30.494      30.494\n",
      "==============================================================================\n",
      "Omnibus:                          nan   Durbin-Watson:                   0.085\n",
      "Prob(Omnibus):                    nan   Jarque-Bera (JB):                0.484\n",
      "Skew:                          -0.158   Prob(JB):                        0.785\n",
      "Kurtosis:                       1.509   Cond. No.                     2.63e+19\n",
      "==============================================================================\n",
      "\n",
      "Notes:\n",
      "[1] Standard Errors assume that the covariance matrix of the errors is correctly specified.\n",
      "[2] The smallest eigenvalue is 4.7e-35. This might indicate that there are\n",
      "strong multicollinearity problems or that the design matrix is singular.\n"
     ]
    },
    {
     "name": "stderr",
     "output_type": "stream",
     "text": [
      "C:\\ProgramData\\anaconda3\\Lib\\site-packages\\statsmodels\\stats\\stattools.py:74: ValueWarning: omni_normtest is not valid with less than 8 observations; 5 samples were given.\n",
      "  warn(\"omni_normtest is not valid with less than 8 observations; %i \"\n"
     ]
    }
   ],
   "source": [
    "# Model özetini yazdır\n",
    "print(model.summary())"
   ]
  },
  {
   "cell_type": "code",
   "execution_count": 34,
   "id": "6d64a254-19f0-4b68-a91e-15f865183a2b",
   "metadata": {},
   "outputs": [],
   "source": [
    "# Tahminler yap\n",
    "tahminler = model.predict(X)"
   ]
  },
  {
   "cell_type": "code",
   "execution_count": 35,
   "id": "cb1b45e2-0528-4739-86b6-628c2d99e5f1",
   "metadata": {},
   "outputs": [
    {
     "name": "stdout",
     "output_type": "stream",
     "text": [
      "   Gerçek  Tahminler\n",
      "0  1500.0     1500.0\n",
      "1  1550.0     1550.0\n",
      "2  1600.0     1600.0\n",
      "3  1650.0     1650.0\n",
      "4  1700.0     1700.0\n"
     ]
    }
   ],
   "source": [
    "# Tahmin edilen değerlerle birlikte gerçek ve tahmini değerleri karşılaştır\n",
    "results = pd.DataFrame({'Gerçek': y, 'Tahminler': tahminler})\n",
    "print(results)"
   ]
  },
  {
   "cell_type": "code",
   "execution_count": null,
   "id": "2b4a818b-edb7-4fb0-8a31-bfa884a6a929",
   "metadata": {},
   "outputs": [],
   "source": []
  }
 ],
 "metadata": {
  "kernelspec": {
   "display_name": "Python 3 (ipykernel)",
   "language": "python",
   "name": "python3"
  },
  "language_info": {
   "codemirror_mode": {
    "name": "ipython",
    "version": 3
   },
   "file_extension": ".py",
   "mimetype": "text/x-python",
   "name": "python",
   "nbconvert_exporter": "python",
   "pygments_lexer": "ipython3",
   "version": "3.11.7"
  }
 },
 "nbformat": 4,
 "nbformat_minor": 5
}
