{
 "cells": [
  {
   "cell_type": "code",
   "execution_count": 11,
   "id": "a4894fdc-a2a4-4102-9527-df82a5e222bc",
   "metadata": {},
   "outputs": [
    {
     "name": "stdout",
     "output_type": "stream",
     "text": [
      "Doğruluk: 1.0\n"
     ]
    }
   ],
   "source": [
    "import numpy as np\n",
    "import pandas as pd\n",
    "from sklearn.ensemble import AdaBoostClassifier\n",
    "from sklearn.preprocessing import LabelEncoder\n",
    "\n",
    "# Veri setini yükle\n",
    "data = pd.read_csv(\"C:/Users/gfbke/Desktop/Yapay_Zeka_Makine_Ogrenimi/Tahmin/AdaBoosting_Adaptive_Boosting/ag_saldirilari.csv\")\n",
    "\n",
    "# Özellikleri ve etiketleri ayır\n",
    "X = data.drop(\"saldiri_tipi\", axis=1)\n",
    "y = data[\"saldiri_tipi\"]\n",
    "\n",
    "# Kategorik sütunları işle\n",
    "le = LabelEncoder()\n",
    "X_encoded = X.copy()\n",
    "for column in X_encoded.columns:\n",
    "    if X_encoded[column].dtype == 'object':\n",
    "        X_encoded[column] = le.fit_transform(X_encoded[column])\n",
    "\n",
    "# AdaBoost sınıflandırıcıyı oluştur\n",
    "clf = AdaBoostClassifier(n_estimators=100)\n",
    "\n",
    "# Modeli eğit\n",
    "clf.fit(X_encoded, y)\n",
    "\n",
    "# Tahminleri yap\n",
    "y_pred = clf.predict(X_encoded)\n",
    "\n",
    "# Doğruluk puanını hesapla\n",
    "accuracy = np.mean(y_pred == y)\n",
    "\n",
    "# Sonuçları yazdır\n",
    "print(\"Doğruluk:\", accuracy) #Doğruluk: 1.0 çıktısı, modelin eğitim veri seti üzerinde mükemmel bir performans gösterdiğini gösterir."
   ]
  },
  {
   "cell_type": "code",
   "execution_count": null,
   "id": "06ad8ac0-e1e7-45a4-8fa8-0ee006bb84c8",
   "metadata": {},
   "outputs": [],
   "source": []
  }
 ],
 "metadata": {
  "kernelspec": {
   "display_name": "Python 3 (ipykernel)",
   "language": "python",
   "name": "python3"
  },
  "language_info": {
   "codemirror_mode": {
    "name": "ipython",
    "version": 3
   },
   "file_extension": ".py",
   "mimetype": "text/x-python",
   "name": "python",
   "nbconvert_exporter": "python",
   "pygments_lexer": "ipython3",
   "version": "3.11.7"
  }
 },
 "nbformat": 4,
 "nbformat_minor": 5
}
