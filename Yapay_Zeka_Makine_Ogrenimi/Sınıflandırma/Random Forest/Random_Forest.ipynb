{
 "cells": [
  {
   "cell_type": "code",
   "execution_count": 1,
   "id": "4d6095c5-eece-43b0-bb0b-d92882c2cf09",
   "metadata": {},
   "outputs": [
    {
     "name": "stdout",
     "output_type": "stream",
     "text": [
      "Model doğruluk oranı: 0.00\n"
     ]
    }
   ],
   "source": [
    "from sklearn.ensemble import RandomForestClassifier\n",
    "from sklearn.model_selection import train_test_split\n",
    "import pandas as pd\n",
    "\n",
    "# Veri setini yükleyin (örneğin, CSV dosyası)\n",
    "data = pd.read_csv(\"C:/Users/gfbke/OneDrive/Masaüstü/kp/Sınıflandırma/Random Forest/Random_Forest.csv\")\n",
    "\n",
    "# Bağımsız değişkenleri ve hedef değişkeni ayırın\n",
    "X = data.drop(columns=[\"Hava Durumu\"])\n",
    "y = data[\"Hava Durumu\"]\n",
    "\n",
    "# Veri setini eğitim ve test verilerine bölelim\n",
    "X_train, X_test, y_train, y_test = train_test_split(X, y, test_size=0.25, random_state=42)\n",
    "\n",
    "# Random Forest modelini oluşturalım\n",
    "model = RandomForestClassifier(n_estimators=100, random_state=42)\n",
    "model.fit(X_train, y_train)\n",
    "\n",
    "# Modelin performansını değerlendirelim\n",
    "accuracy = model.score(X_test, y_test)\n",
    "print(f\"Model doğruluk oranı: {accuracy:.2f}\")"
   ]
  },
  {
   "cell_type": "code",
   "execution_count": null,
   "id": "4d65b0ad-0da1-4f95-b602-178c03ebdabd",
   "metadata": {},
   "outputs": [],
   "source": []
  }
 ],
 "metadata": {
  "kernelspec": {
   "display_name": "Python 3 (ipykernel)",
   "language": "python",
   "name": "python3"
  },
  "language_info": {
   "codemirror_mode": {
    "name": "ipython",
    "version": 3
   },
   "file_extension": ".py",
   "mimetype": "text/x-python",
   "name": "python",
   "nbconvert_exporter": "python",
   "pygments_lexer": "ipython3",
   "version": "3.11.7"
  }
 },
 "nbformat": 4,
 "nbformat_minor": 5
}
