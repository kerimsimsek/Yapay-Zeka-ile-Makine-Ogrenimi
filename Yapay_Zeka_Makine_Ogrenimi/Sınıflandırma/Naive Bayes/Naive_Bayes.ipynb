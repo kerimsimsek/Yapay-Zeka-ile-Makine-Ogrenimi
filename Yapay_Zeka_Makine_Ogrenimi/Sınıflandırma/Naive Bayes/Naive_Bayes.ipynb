{
 "cells": [
  {
   "cell_type": "code",
   "execution_count": 7,
   "id": "1fb12931-1207-496d-b918-1f5014fa5d8a",
   "metadata": {},
   "outputs": [],
   "source": [
    "import pandas as pd\n",
    "import numpy as np\n",
    "\n",
    "# E-posta içeriklerini oluşturalım\n",
    "np.random.seed(0)\n",
    "eposta_spam = [\n",
    "    \"Bu bir spam e-posta mı?\",\n",
    "    \"Size kazandığınız ödül hakkında bilgi vereceğim\",\n",
    "    \"Onay bekleyen toplu e-posta listesi\"\n",
    "]\n",
    "\n",
    "eposta_normal = [\n",
    "    \"Kampanya hakkında bilgilendirme\",\n",
    "    \"Şirket içi toplantı hatırlatması\",\n",
    "    \"Son kullanma tarihi geçen ürünler hakkında bilgilendirme\"\n",
    "]\n",
    "\n",
    "# %30 spam içeren e-posta içerikleri oluşturalım\n",
    "spam_sayisi = 300\n",
    "normal_sayisi = 700\n",
    "\n",
    "eposta_icerikleri = np.concatenate([np.random.choice(eposta_spam, spam_sayisi), np.random.choice(eposta_normal, normal_sayisi)])\n",
    "\n",
    "# Spam etiketlerini oluşturalım\n",
    "spam_etiketleri = np.concatenate([np.ones(spam_sayisi), np.zeros(normal_sayisi)])\n",
    "\n",
    "# DataFrame oluşturma\n",
    "df = pd.DataFrame({\n",
    "    'Eposta_Icerigi': eposta_icerikleri,\n",
    "    'Spam_Etiketi': spam_etiketleri.astype(int)  # numpy array'i int türüne dönüştürme\n",
    "})\n",
    "\n",
    "# Veri setini CSV dosyasına yazdıralım\n",
    "df.to_csv('eposta_veri_seti.csv', index=False)"
   ]
  },
  {
   "cell_type": "code",
   "execution_count": 9,
   "id": "2dad2f86-77b7-4f81-9fe0-605d4b21a4fb",
   "metadata": {},
   "outputs": [
    {
     "name": "stdout",
     "output_type": "stream",
     "text": [
      "Model doğruluk oranı: 1.00\n"
     ]
    }
   ],
   "source": [
    "from sklearn.feature_extraction.text import CountVectorizer\n",
    "from sklearn.naive_bayes import MultinomialNB\n",
    "from sklearn.model_selection import train_test_split\n",
    "import pandas as pd\n",
    "\n",
    "# Veri setini yükleyin (örneğin, CSV dosyası)\n",
    "data = pd.read_csv(\"eposta_veri_seti.csv\")\n",
    "\n",
    "# E-posta içeriğini ve etiketleri ayırın\n",
    "X = data[\"Eposta_Icerigi\"]\n",
    "y = data[\"Spam_Etiketi\"]\n",
    "\n",
    "# E-posta içeriğini sayısal vektörlere dönüştürün\n",
    "vectorizer = CountVectorizer()\n",
    "X_vectorized = vectorizer.fit_transform(X)\n",
    "\n",
    "# Veri setini eğitim ve test verilerine bölelim\n",
    "X_train, X_test, y_train, y_test = train_test_split(X_vectorized, y, test_size=0.2, random_state=42)\n",
    "\n",
    "# Naive Bayes modelini oluşturalım\n",
    "model = MultinomialNB()\n",
    "model.fit(X_train, y_train)\n",
    "\n",
    "# Modelin performansını değerlendirelim\n",
    "accuracy = model.score(X_test, y_test)\n",
    "print(f\"Model doğruluk oranı: {accuracy:.2f}\")\n"
   ]
  },
  {
   "cell_type": "code",
   "execution_count": null,
   "id": "25dc087a-cad2-47d8-8605-dde04d3381d2",
   "metadata": {},
   "outputs": [],
   "source": []
  }
 ],
 "metadata": {
  "kernelspec": {
   "display_name": "Python 3 (ipykernel)",
   "language": "python",
   "name": "python3"
  },
  "language_info": {
   "codemirror_mode": {
    "name": "ipython",
    "version": 3
   },
   "file_extension": ".py",
   "mimetype": "text/x-python",
   "name": "python",
   "nbconvert_exporter": "python",
   "pygments_lexer": "ipython3",
   "version": "3.11.7"
  }
 },
 "nbformat": 4,
 "nbformat_minor": 5
}
