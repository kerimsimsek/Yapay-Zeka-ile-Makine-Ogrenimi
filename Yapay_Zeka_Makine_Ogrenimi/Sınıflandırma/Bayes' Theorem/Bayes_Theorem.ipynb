{
 "cells": [
  {
   "cell_type": "code",
   "execution_count": 9,
   "id": "f88c2beb-c5dc-438b-a59b-050bb2bc2c04",
   "metadata": {},
   "outputs": [
    {
     "name": "stdout",
     "output_type": "stream",
     "text": [
      "Model doğruluk oranı: 0.60\n"
     ]
    }
   ],
   "source": [
    "from sklearn.naive_bayes import GaussianNB\n",
    "from sklearn.model_selection import train_test_split\n",
    "import pandas as pd\n",
    "\n",
    "# Veri setini yükleyin (örneğin, CSV dosyası)\n",
    "data = pd.read_csv(\"C:/Users/gfbke/OneDrive/Masaüstü/kp/Sınıflandırma/Bayes' Theorem/sucluluk_veri_seti.csv\")\n",
    "\n",
    "# Bağımsız değişkenleri ve hedef değişkeni ayırın\n",
    "X = data.drop(columns=[\"Sucluluk_Durumu\"])\n",
    "y = data[\"Sucluluk_Durumu\"]\n",
    "\n",
    "# Veri setini eğitim ve test verilerine bölelim\n",
    "X_train, X_test, y_train, y_test = train_test_split(X, y, test_size=0.1, random_state=42)\n",
    "\n",
    "# Bayes Teoremi ile modeli oluşturalım\n",
    "model = GaussianNB()\n",
    "model.fit(X_train, y_train)\n",
    "\n",
    "# Modelin performansını değerlendirelim\n",
    "accuracy = model.score(X_test, y_test)\n",
    "print(f\"Model doğruluk oranı: {accuracy:.2f}\")"
   ]
  },
  {
   "cell_type": "code",
   "execution_count": null,
   "id": "ab58bab6-5c0d-40ca-afa8-026ec55680e6",
   "metadata": {},
   "outputs": [],
   "source": []
  }
 ],
 "metadata": {
  "kernelspec": {
   "display_name": "Python 3 (ipykernel)",
   "language": "python",
   "name": "python3"
  },
  "language_info": {
   "codemirror_mode": {
    "name": "ipython",
    "version": 3
   },
   "file_extension": ".py",
   "mimetype": "text/x-python",
   "name": "python",
   "nbconvert_exporter": "python",
   "pygments_lexer": "ipython3",
   "version": "3.11.7"
  }
 },
 "nbformat": 4,
 "nbformat_minor": 5
}
