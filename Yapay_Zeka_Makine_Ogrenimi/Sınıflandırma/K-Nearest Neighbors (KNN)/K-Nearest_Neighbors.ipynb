{
 "cells": [
  {
   "cell_type": "code",
   "execution_count": 4,
   "id": "6d2430f7-ff59-4bc5-9a2b-3dcec212aea0",
   "metadata": {},
   "outputs": [],
   "source": [
    "import pandas as pd\n",
    "import numpy as np\n",
    "\n",
    "# Rastgele veri oluşturma\n",
    "np.random.seed(0)\n",
    "yas = np.random.randint(20, 65, size=100) # Yaş: 20-65 arası rastgele sayılar\n",
    "deneyim = np.random.randint(1, 40, size=100) # Deneyim: 1-40 arası rastgele sayılar\n",
    "maas = 17002 + (100 * yas) + (200 * deneyim) + np.random.normal(0, 1000, size=100) # Maaş: Karmaşık bir formül ile oluşturuluyor\n",
    "\n",
    "# DataFrame oluşturma\n",
    "df = pd.DataFrame({\n",
    "    'Yas': yas,\n",
    "    'Deneyim': deneyim,\n",
    "    'Maas': maas\n",
    "})\n",
    "\n",
    "# Veri setini CSV dosyasına yazdıralım\n",
    "df.to_csv('maas_tahmini_veri_seti.csv', index=False)\n"
   ]
  },
  {
   "cell_type": "code",
   "execution_count": 5,
   "id": "b24caa31-dd97-4693-ac4b-78a96f74ecd7",
   "metadata": {},
   "outputs": [
    {
     "name": "stdout",
     "output_type": "stream",
     "text": [
      "Model R^2 skoru: 0.80\n"
     ]
    }
   ],
   "source": [
    "from sklearn.neighbors import KNeighborsRegressor\n",
    "from sklearn.model_selection import train_test_split\n",
    "import pandas as pd\n",
    "\n",
    "# Veri setini yükleyin (örneğin, CSV dosyası)\n",
    "data = pd.read_csv(\"maas_tahmini_veri_seti.csv\")\n",
    "\n",
    "# Bağımsız değişkenleri ve hedef değişkeni ayırın\n",
    "X = data.drop(columns=[\"Maas\"])\n",
    "y = data[\"Maas\"]\n",
    "\n",
    "# Veri setini eğitim ve test verilerine bölelim\n",
    "X_train, X_test, y_train, y_test = train_test_split(X, y, test_size=0.2, random_state=42)\n",
    "\n",
    "# kNN modelini oluşturalım\n",
    "model = KNeighborsRegressor(n_neighbors=5)\n",
    "model.fit(X_train, y_train)\n",
    "\n",
    "# Modelin performansını değerlendirelim\n",
    "r2_score = model.score(X_test, y_test)\n",
    "print(f\"Model R^2 skoru: {r2_score:.2f}\")\n"
   ]
  },
  {
   "cell_type": "code",
   "execution_count": null,
   "id": "e02cfc74-562f-4532-bdbf-c71ac799bacb",
   "metadata": {},
   "outputs": [],
   "source": []
  }
 ],
 "metadata": {
  "kernelspec": {
   "display_name": "Python 3 (ipykernel)",
   "language": "python",
   "name": "python3"
  },
  "language_info": {
   "codemirror_mode": {
    "name": "ipython",
    "version": 3
   },
   "file_extension": ".py",
   "mimetype": "text/x-python",
   "name": "python",
   "nbconvert_exporter": "python",
   "pygments_lexer": "ipython3",
   "version": "3.11.7"
  }
 },
 "nbformat": 4,
 "nbformat_minor": 5
}
