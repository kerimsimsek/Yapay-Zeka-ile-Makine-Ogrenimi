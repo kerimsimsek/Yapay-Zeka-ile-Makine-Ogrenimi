{
 "cells": [
  {
   "cell_type": "code",
   "execution_count": 6,
   "id": "d3f8bdc9-a2e3-4ec1-a299-770b164b6daa",
   "metadata": {},
   "outputs": [],
   "source": [
    "import pandas as pd\n",
    "import numpy as np\n",
    "\n",
    "# Rastgele veri oluşturma\n",
    "np.random.seed(0)\n",
    "n_samples = 1000\n",
    "\n",
    "# Beğeni sayısı ve takipçi sayısı özelliklerini oluşturma\n",
    "begeni_sayisi = np.random.randint(0, 1000, size=n_samples)\n",
    "takipci_sayisi = np.random.randint(0, 10000, size=n_samples)\n",
    "\n",
    "# DataFrame oluşturma\n",
    "df = pd.DataFrame({\n",
    "    'Begeni_Sayisi': begeni_sayisi,\n",
    "    'Takipci_Sayisi': takipci_sayisi\n",
    "})\n",
    "\n",
    "# Veri setini CSV dosyasına yazdıralım\n",
    "df.to_csv('sosyal_medya_veri_seti.csv', index=False)"
   ]
  },
  {
   "cell_type": "code",
   "execution_count": 7,
   "id": "fb87fbbb-fc20-4aca-8281-94bf692fbba6",
   "metadata": {},
   "outputs": [
    {
     "ename": "ModuleNotFoundError",
     "evalue": "No module named 'sklearn_extra'",
     "output_type": "error",
     "traceback": [
      "\u001b[1;31m---------------------------------------------------------------------------\u001b[0m",
      "\u001b[1;31mModuleNotFoundError\u001b[0m                       Traceback (most recent call last)",
      "Cell \u001b[1;32mIn[7], line 1\u001b[0m\n\u001b[1;32m----> 1\u001b[0m \u001b[38;5;28;01mfrom\u001b[39;00m \u001b[38;5;21;01msklearn_extra\u001b[39;00m\u001b[38;5;21;01m.\u001b[39;00m\u001b[38;5;21;01mcluster\u001b[39;00m \u001b[38;5;28;01mimport\u001b[39;00m KMedoids\n\u001b[0;32m      2\u001b[0m \u001b[38;5;28;01mimport\u001b[39;00m \u001b[38;5;21;01mpandas\u001b[39;00m \u001b[38;5;28;01mas\u001b[39;00m \u001b[38;5;21;01mpd\u001b[39;00m\n\u001b[0;32m      4\u001b[0m \u001b[38;5;66;03m# Veri setini yükleyin (örneğin, CSV dosyası)\u001b[39;00m\n",
      "\u001b[1;31mModuleNotFoundError\u001b[0m: No module named 'sklearn_extra'"
     ]
    }
   ],
   "source": [
    "from sklearn_extra.cluster import KMedoids\n",
    "import pandas as pd\n",
    "\n",
    "# Veri setini yükleyin (örneğin, CSV dosyası)\n",
    "data = pd.read_csv(\"C:/Users/gfbke/OneDrive/Masaüstü/kp/Kümeleme/K-Models Clustering/sosyal_medya_veri_seti.csv\")\n",
    "\n",
    "# Bağımsız değişkenleri seçin (örneğin, beğeni sayısı, takipçi sayısı)\n",
    "X = data[[\"Begeni_Sayisi\", \"Takipci_Sayisi\"]]\n",
    "\n",
    "# K-Medoids modelini oluşturun\n",
    "kmedoids = KMedoids(n_clusters=3, random_state=42)\n",
    "kmedoids.fit(X)\n",
    "\n",
    "# Kullanıcıları gruplara ayırın\n",
    "data[\"Grup\"] = kmedoids.labels_\n",
    "\n",
    "# Her grup için istatistiksel bilgileri gösterin\n",
    "group_stats = data.groupby(\"Grup\").agg({\"Begeni_Sayisi\": \"mean\", \"Takipci_Sayisi\": \"mean\"})\n",
    "print(group_stats)"
   ]
  },
  {
   "cell_type": "code",
   "execution_count": 8,
   "id": "29c7ce40-8cb2-4e2e-8aea-2bb4857a7aad",
   "metadata": {},
   "outputs": [
    {
     "name": "stderr",
     "output_type": "stream",
     "text": [
      "C:\\ProgramData\\anaconda3\\Lib\\site-packages\\sklearn\\cluster\\_kmeans.py:870: FutureWarning: The default value of `n_init` will change from 10 to 'auto' in 1.4. Set the value of `n_init` explicitly to suppress the warning\n",
      "  warnings.warn(\n",
      "C:\\ProgramData\\anaconda3\\Lib\\site-packages\\sklearn\\cluster\\_kmeans.py:1382: UserWarning: KMeans is known to have a memory leak on Windows with MKL, when there are less chunks than available threads. You can avoid it by setting the environment variable OMP_NUM_THREADS=4.\n",
      "  warnings.warn(\n"
     ]
    },
    {
     "name": "stdout",
     "output_type": "stream",
     "text": [
      "      Begeni_Sayisi  Takipci_Sayisi\n",
      "Grup                               \n",
      "0        506.758824     1687.085294\n",
      "1        494.943396     8236.037736\n",
      "2        516.438596     4969.608187\n"
     ]
    }
   ],
   "source": [
    "import pandas as pd\n",
    "from sklearn.cluster import KMeans\n",
    "\n",
    "# Veri setini yükleyin (örneğin, CSV dosyası)\n",
    "data = pd.read_csv(\"C:/Users/gfbke/OneDrive/Masaüstü/kp/Kümeleme/K-Models Clustering/sosyal_medya_veri_seti.csv\")\n",
    "\n",
    "# Bağımsız değişkenleri seçin (örneğin, beğeni sayısı, takipçi sayısı)\n",
    "X = data[[\"Begeni_Sayisi\", \"Takipci_Sayisi\"]]\n",
    "\n",
    "# K-Means modelini oluşturun\n",
    "kmeans = KMeans(n_clusters=3, random_state=42)\n",
    "kmeans.fit(X)\n",
    "\n",
    "# Kullanıcıları gruplara ayırın\n",
    "data[\"Grup\"] = kmeans.labels_\n",
    "\n",
    "# Her grup için istatistiksel bilgileri gösterin\n",
    "group_stats = data.groupby(\"Grup\").agg({\"Begeni_Sayisi\": \"mean\", \"Takipci_Sayisi\": \"mean\"})\n",
    "print(group_stats)"
   ]
  },
  {
   "cell_type": "code",
   "execution_count": null,
   "id": "397c07d7-82d9-4fad-abee-d3c788de08ef",
   "metadata": {},
   "outputs": [],
   "source": []
  }
 ],
 "metadata": {
  "kernelspec": {
   "display_name": "Python 3 (ipykernel)",
   "language": "python",
   "name": "python3"
  },
  "language_info": {
   "codemirror_mode": {
    "name": "ipython",
    "version": 3
   },
   "file_extension": ".py",
   "mimetype": "text/x-python",
   "name": "python",
   "nbconvert_exporter": "python",
   "pygments_lexer": "ipython3",
   "version": "3.11.7"
  }
 },
 "nbformat": 4,
 "nbformat_minor": 5
}
