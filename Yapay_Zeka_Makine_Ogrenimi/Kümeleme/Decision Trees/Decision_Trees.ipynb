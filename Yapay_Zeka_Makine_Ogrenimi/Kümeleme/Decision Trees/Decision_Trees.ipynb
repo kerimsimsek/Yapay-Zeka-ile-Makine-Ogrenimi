{
 "cells": [
  {
   "cell_type": "code",
   "execution_count": 12,
   "id": "45e3a57f-2b03-4631-853f-4811970a6e9c",
   "metadata": {},
   "outputs": [],
   "source": [
    "import pandas as pd\n",
    "import numpy as np\n",
    "\n",
    "# Rastgele veri oluşturma\n",
    "np.random.seed(0)\n",
    "n_samples = 1000\n",
    "\n",
    "# Semptomlar: Ateş, öksürük, burun akıntısı, boğaz ağrısı\n",
    "ateş = np.random.randint(0, 2, size=n_samples) # Ateş: 0 (yok) veya 1 (var)\n",
    "öksürük = np.random.randint(0, 2, size=n_samples) # Öksürük: 0 (yok) veya 1 (var)\n",
    "burun_akıntısı = np.random.randint(0, 2, size=n_samples) # Burun akıntısı: 0 (yok) veya 1 (var)\n",
    "boğaz_ağrısı = np.random.randint(0, 2, size=n_samples) # Boğaz ağrısı: 0 (yok) veya 1 (var)\n",
    "\n",
    "# Hastalık etiketleri: Grip, soğuk algınlığı, nezle\n",
    "# Grip: Ateş, öksürük, boğaz ağrısı\n",
    "# Soğuk algınlığı: Burun akıntısı, öksürük\n",
    "# Nezle: Burun akıntısı\n",
    "grip = (ateş == 1) & (öksürük == 1) & (boğaz_ağrısı == 1)\n",
    "soğuk_algınlığı = (burun_akıntısı == 1) & (öksürük == 1)\n",
    "nezle = (burun_akıntısı == 1)\n",
    "\n",
    "# Hastalık etiketlerini oluşturma\n",
    "hastalık_etiketleri = np.where(grip, 'Grip', np.where(soğuk_algınlığı, 'Soğuk Algınlığı', np.where(nezle, 'Nezle', 'Yok')))\n",
    "\n",
    "# DataFrame oluşturma\n",
    "df = pd.DataFrame({\n",
    "    'Ates': ateş,\n",
    "    'Oksuruk': öksürük,\n",
    "    'BurunAkintisi': burun_akıntısı,\n",
    "    'BogazAgrisi': boğaz_ağrısı,\n",
    "    'Hastalik': hastalık_etiketleri\n",
    "})\n",
    "\n",
    "# Veri setini CSV dosyasına yazdıralım\n",
    "df.to_csv('hasta_semptom_veri_seti.csv', index=False)"
   ]
  },
  {
   "cell_type": "code",
   "execution_count": 13,
   "id": "648173fd-cd09-4b49-8ab8-dc4cec140490",
   "metadata": {},
   "outputs": [
    {
     "name": "stdout",
     "output_type": "stream",
     "text": [
      "Model doğruluk oranı: 1.00\n"
     ]
    }
   ],
   "source": [
    "from sklearn.tree import DecisionTreeClassifier\n",
    "from sklearn.model_selection import train_test_split\n",
    "import pandas as pd\n",
    "\n",
    "# Veri setini yükleyin (örneğin, CSV dosyası)\n",
    "data = pd.read_csv(\"C:/Users/gfbke/OneDrive/Masaüstü/kp/Kümeleme/Decision Trees/hasta_semptom_veri_seti.csv\")\n",
    "\n",
    "# Bağımsız değişkenleri ve hedef değişkeni ayırın\n",
    "X = data.drop(columns=[\"Hastalik\"])\n",
    "y = data[\"Hastalik\"]\n",
    "\n",
    "# Veri setini eğitim ve test verilerine bölelim\n",
    "X_train, X_test, y_train, y_test = train_test_split(X, y, test_size=0.2, random_state=42)\n",
    "\n",
    "# Karar ağacı modelini oluşturalım\n",
    "model = DecisionTreeClassifier()\n",
    "model.fit(X_train, y_train)\n",
    "\n",
    "# Modelin performansını değerlendirelim\n",
    "accuracy = model.score(X_test, y_test)\n",
    "print(f\"Model doğruluk oranı: {accuracy:.2f}\")\n"
   ]
  },
  {
   "cell_type": "code",
   "execution_count": null,
   "id": "c0cbdb1c-1d5d-4f58-ab81-8373d5c1072d",
   "metadata": {},
   "outputs": [],
   "source": []
  }
 ],
 "metadata": {
  "kernelspec": {
   "display_name": "Python 3 (ipykernel)",
   "language": "python",
   "name": "python3"
  },
  "language_info": {
   "codemirror_mode": {
    "name": "ipython",
    "version": 3
   },
   "file_extension": ".py",
   "mimetype": "text/x-python",
   "name": "python",
   "nbconvert_exporter": "python",
   "pygments_lexer": "ipython3",
   "version": "3.11.7"
  }
 },
 "nbformat": 4,
 "nbformat_minor": 5
}
